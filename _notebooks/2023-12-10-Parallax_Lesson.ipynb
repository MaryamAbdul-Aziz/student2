{
 "cells": [
  {
   "cell_type": "markdown",
   "metadata": {},
   "source": [
    "---\n",
    "layout: base\n",
    "title: Parallax Lesson Plan\n",
    "type: plans\n",
    "courses: { compsci: {week: 16} }\n",
    "---"
   ]
  },
  {
   "cell_type": "markdown",
   "metadata": {},
   "source": [
    "# Intro\n",
    "Parallax scrolling occurs when there are different layers of backgrounds that move at different speeds in relation to the character to create a sense of depth. In other words, one thing is stationary while a background moves. Parallax scrolling can be beneficial by adding interest to an otherwise static website/game. Transitions from screen to screen and other transitions that happen when the user does something like press buttons, can also help the game feel smoother.\n",
    "\n",
    "Some cool examples of Parallax Scrolling and resources:\n",
    "- https://kevinzhangweb.com/\n",
    "- http://springsummer.gucci.com/\n",
    "- https://www.spacex.com/vehicles/falcon-9/\n",
    "- https://www.sketch.com/blog/what-is-a-parallax-effect/\n",
    "- https://webflow.com/blog/parallax-scrolling"
   ]
  },
  {
   "cell_type": "markdown",
   "metadata": {},
   "source": [
    "# Step 1\n",
    "\n",
    "Add the image into images/platformer/backgrounds. Then add the Background2.js into assets/js/platformer."
   ]
  },
  {
   "cell_type": "markdown",
   "metadata": {},
   "source": [
    "# Step 2\n",
    "\n",
    "Lets get the background into the game. Define mountains as a background image; do this in the main file 2023-11-27-CSSE-oop-game-levels.md and in assets within the background asset."
   ]
  },
  {
   "cell_type": "code",
   "execution_count": 1,
   "metadata": {
    "vscode": {
     "languageId": "javascript"
    }
   },
   "outputs": [
    {
     "ename": "NameError",
     "evalue": "name 'src' is not defined",
     "output_type": "error",
     "traceback": [
      "\u001b[0;31m---------------------------------------------------------------------------\u001b[0m",
      "\u001b[0;31mNameError\u001b[0m                                 Traceback (most recent call last)",
      "Cell \u001b[0;32mIn[1], line 1\u001b[0m\n\u001b[0;32m----> 1\u001b[0m mountains: { \u001b[43msrc\u001b[49m: \u001b[38;5;124m\"\u001b[39m\u001b[38;5;124m/images/platformer/backgrounds/mountains.jpg\u001b[39m\u001b[38;5;124m\"\u001b[39m}\n",
      "\u001b[0;31mNameError\u001b[0m: name 'src' is not defined"
     ]
    }
   ],
   "source": [
    "mountains: { src: \"/images/platformer/backgrounds/mountains.jpg\"}"
   ]
  },
  {
   "cell_type": "markdown",
   "metadata": {},
   "source": [
    "Add the second background into the \"hills\" constructor."
   ]
  },
  {
   "cell_type": "code",
   "execution_count": null,
   "metadata": {
    "vscode": {
     "languageId": "javascript"
    }
   },
   "outputs": [],
   "source": [
    "new GameLevel( {tag: \"hills\", background: assets.backgrounds.hills, background2: assets.backgrounds.mountains, platform: assets.platforms.grass, player: assets.players.mario, tube: assets.obstacles.tube, callback: testerCallBack } );"
   ]
  },
  {
   "cell_type": "markdown",
   "metadata": {},
   "source": [
    "Then go to the GameLevel.js file and add this to the constructor."
   ]
  },
  {
   "cell_type": "code",
   "execution_count": null,
   "metadata": {
    "vscode": {
     "languageId": "javascript"
    }
   },
   "outputs": [],
   "source": [
    "this.backgroundImg2 = gameObject.background2?.file;"
   ]
  },
  {
   "cell_type": "markdown",
   "metadata": {},
   "source": [
    "Then we need to load the image using this code."
   ]
  },
  {
   "cell_type": "code",
   "execution_count": null,
   "metadata": {
    "vscode": {
     "languageId": "javascript"
    }
   },
   "outputs": [],
   "source": [
    "if (this.backgroundImg2) {\n",
    "    imagesToLoad.push(this.loadImage(this.backgroundImg2));\n",
    "}"
   ]
  },
  {
   "cell_type": "markdown",
   "metadata": {},
   "source": [
    "After we load the code we then have to create the new background. Make sure this is above the backgroundImg so it will create the canvas behind the original background."
   ]
  },
  {
   "cell_type": "code",
   "execution_count": null,
   "metadata": {
    "vscode": {
     "languageId": "javascript"
    }
   },
   "outputs": [],
   "source": [
    "if (this.backgroundImg2) {\n",
    "    const backgroundCanvas = document.createElement(\"canvas\");\n",
    "    backgroundCanvas.id = \"background\";\n",
    "    document.querySelector(\"#canvasContainer\").appendChild(backgroundCanvas);\n",
    "    const backgroundSpeedRatio = 0;\n",
    "    new Background2(backgroundCanvas, loadedImages[i], backgroundSpeedRatio);\n",
    "    i++;\n",
    "}"
   ]
  },
  {
   "cell_type": "markdown",
   "metadata": {},
   "source": [
    "Now we have the image in the code but we still need a different file to help create this second background. Make a new js file called Background2.js. You can use the regular background code just make sure to call it Background2 and export background2."
   ]
  },
  {
   "cell_type": "markdown",
   "metadata": {},
   "source": [
    "# Step 3\n",
    "\n",
    "Now that we have the image into the game we can start to make it move. First we need to navigate to the GameEnv.js file. Now make a new variable for the background speed and set it to zero."
   ]
  },
  {
   "cell_type": "code",
   "execution_count": null,
   "metadata": {
    "vscode": {
     "languageId": "javascript"
    }
   },
   "outputs": [],
   "source": [
    "static backgroundSpeed2 = 0;"
   ]
  },
  {
   "cell_type": "markdown",
   "metadata": {},
   "source": [
    "Now that we have this this variable we can use it in the background update funtion. If you change this variable in GameEnv.js it should make the background move."
   ]
  },
  {
   "cell_type": "code",
   "execution_count": null,
   "metadata": {
    "vscode": {
     "languageId": "javascript"
    }
   },
   "outputs": [],
   "source": [
    "this.speed = GameEnv.backgroundSpeed2;"
   ]
  },
  {
   "cell_type": "markdown",
   "metadata": {},
   "source": [
    "Now the background moves but we need it to move when the player moves. Now go to the Player.js file. We will add an if statement within the keydown function to detect when \"a\" is pressed and move the background right, and when \"d\" is pressed move the background left. Just make sure the backgroundSpeed2 variable is set to 0."
   ]
  },
  {
   "cell_type": "code",
   "execution_count": null,
   "metadata": {
    "vscode": {
     "languageId": "javascript"
    }
   },
   "outputs": [],
   "source": [
    "if (key === \"a\") {\n",
    "    GameEnv.backgroundSpeed2 = -0.1;\n",
    "}\n",
    "if (key === \"d\") {\n",
    "    GameEnv.backgroundSpeed2 = 0.1;\n",
    "}"
   ]
  },
  {
   "cell_type": "markdown",
   "metadata": {},
   "source": [
    "Now the background moves when the character moves but it dosent stop. We can add these same if statements to the keyup function but just set the variable to 0. This should stop the background from moving when the player moves."
   ]
  },
  {
   "cell_type": "code",
   "execution_count": null,
   "metadata": {
    "vscode": {
     "languageId": "javascript"
    }
   },
   "outputs": [],
   "source": [
    "if (key === \"a\") {\n",
    "    GameEnv.backgroundSpeed2 = 0;\n",
    "}\n",
    "if (key === \"d\") {\n",
    "    GameEnv.backgroundSpeed2 = 0;\n",
    "}"
   ]
  },
  {
   "cell_type": "markdown",
   "metadata": {},
   "source": [
    "Also need to change the starting x value otherwise we run into some issues."
   ]
  },
  {
   "cell_type": "code",
   "execution_count": null,
   "metadata": {
    "vscode": {
     "languageId": "javascript"
    }
   },
   "outputs": [],
   "source": [
    "export class Background2 extends GameObject {\n",
    "    constructor(canvas, image, speedRatio) {\n",
    "        super(canvas, image, speedRatio);\n",
    "        this.x = -1000;\n",
    "    }"
   ]
  },
  {
   "cell_type": "markdown",
   "metadata": {},
   "source": [
    "Now the background moves with the player. In order to get a full parallax effect both backgrounds need to be moving at different speeds. The background in the foreground should move faster then the one in the back. We can do this by using all the same code but in the Background.js file instead of the Background2.js file."
   ]
  },
  {
   "cell_type": "code",
   "execution_count": null,
   "metadata": {
    "vscode": {
     "languageId": "javascript"
    }
   },
   "outputs": [],
   "source": [
    "// add this to GameEnv.js\n",
    "static backgroundSpeed = 0;\n",
    "\n",
    "// add this to Background.js\n",
    "this.speed = GameEnv.backgroundSpeed;\n",
    "\n",
    "// add this to the keydown if statements in player.js\n",
    "GameEnv.backgroundSpeed = -0.4;\n",
    "GameEnv.backgroundSpeed = 0.4;\n",
    "\n",
    "// add this to the keyup if statements in player.js\n",
    "GameEnv.backgroundSpeed = 0;\n",
    "GameEnv.backgroundSpeed = 0;"
   ]
  },
  {
   "cell_type": "markdown",
   "metadata": {},
   "source": [
    "That should all work but you might notice a weird shadow. To fix this we can clear the canvas before it draws it so add this to the update function in Background.js"
   ]
  },
  {
   "cell_type": "code",
   "execution_count": null,
   "metadata": {
    "vscode": {
     "languageId": "javascript"
    }
   },
   "outputs": [],
   "source": [
    "this.ctx.clearRect(0, 0, this.canvas.width, this.canvas.height);"
   ]
  },
  {
   "cell_type": "markdown",
   "metadata": {},
   "source": [
    "# Step 4\n",
    "\n",
    "We can also add transitions to buttons and moving from screen to screen. Add keyframes in the main game file in the <style> </style> brackets, in this case fade in and fadeout change opacity and flashing makes button flash with 0.5s between each flash. Referencing the ids created in the GameLevel.js file “background” and “platform.”"
   ]
  },
  {
   "cell_type": "code",
   "execution_count": null,
   "metadata": {
    "vscode": {
     "languageId": "javascript"
    }
   },
   "outputs": [],
   "source": [
    "<style>\n",
    "  #gameBegin, #controls, #gameOver {\n",
    "    position: relative;\n",
    "    z-index: 2; /*Ensure the controls are on top*/\n",
    "  }\n",
    "  \n",
    "  #toggleCanvasEffect, #background, #platform {\n",
    "    animation: fadein 5s;\n",
    "  }\n",
    "\n",
    "  #startGame {\n",
    "    animation: flash 0.5s infinite;\n",
    "  }\n",
    "\n",
    "  @keyframes flash {\n",
    "    50% {\n",
    "      opacity: 0;\n",
    "    }\n",
    "  }\n",
    "\n",
    "  @keyframes fadeout {\n",
    "    from {opacity: 1}\n",
    "    to {opacity: 0}\n",
    "  }\n",
    "\n",
    "  @keyframes fadein {\n",
    "    from {opacity: 0}\n",
    "    to {opacity: 1}\n",
    "  }\n",
    "</style>"
   ]
  },
  {
   "cell_type": "markdown",
   "metadata": {},
   "source": [
    "# Homework\n",
    "\n",
    "- Add transitions\n",
    "- Add both moving backgrounds\n",
    "- Make backgrounds move with the player\n",
    "\n",
    "### Challenge\n",
    "\n",
    "- Add transition effect to from the mario level to the alien level"
   ]
  }
 ],
 "metadata": {
  "kernelspec": {
   "display_name": "Python 3",
   "language": "python",
   "name": "python3"
  },
  "language_info": {
   "codemirror_mode": {
    "name": "ipython",
    "version": 3
   },
   "file_extension": ".py",
   "mimetype": "text/x-python",
   "name": "python",
   "nbconvert_exporter": "python",
   "pygments_lexer": "ipython3",
   "version": "3.11.5"
  }
 },
 "nbformat": 4,
 "nbformat_minor": 2
}
