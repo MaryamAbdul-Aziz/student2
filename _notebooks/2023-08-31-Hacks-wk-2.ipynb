{
 "cells": [
  {
   "cell_type": "markdown",
   "metadata": {},
   "source": [
    "---\n",
    "toc: true\n",
    "title: Linux Shell and Bash Notes \n",
    "layout: post\n",
    "description: My notes and hacks from this week (week 2)\n",
    "type: hacks\n",
    "courses: { compsci: {week: 2} }\n",
    "---"
   ]
  },
  {
   "cell_type": "markdown",
   "metadata": {},
   "source": [
    "# Linux Shell and Bash: Hacks\n",
    "\n",
    "What I learned about using Linux Shell and Bash to install tools and set up a repository on my local machine.\n",
    "\n",
    "*Note: I am not including 'echo' commands present in teacher copy because I commment out that information instead*\n"
   ]
  },
  {
   "cell_type": "markdown",
   "metadata": {},
   "source": [
    "\n",
    "## Project Setup\n",
    "\n",
    "### Pull code\n",
    "Pull code to your local machine using an automated process to speed things up, including some conditional logic ensuring that things only download if they do not already exist.\n",
    "\n",
    "Commonly Used Commands:\n",
    "> cd: change directory"
   ]
  },
  {
   "cell_type": "code",
   "execution_count": 1,
   "metadata": {
    "vscode": {
     "languageId": "shellscript"
    }
   },
   "outputs": [],
   "source": [
    "%%script bash\n",
    "\n",
    "# define variables used in all other code cells\n",
    "cat <<EOF > /tmp/variables.sh\n",
    "export project_dir=$HOME/vscode\n",
    "export project=\\$project_dir/teacher\n",
    "export project_repo=\"https://github.com/nighthawkcoders/teacher.git\" \n",
    "export posts=vscode/student/_posts\n",
    "EOF\n"
   ]
  },
  {
   "cell_type": "code",
   "execution_count": 2,
   "metadata": {
    "vscode": {
     "languageId": "shellscript"
    }
   },
   "outputs": [],
   "source": [
    "%%script bash \n",
    "# used to begin every bash script\n",
    "\n",
    "# extract saved variables from a preexisting script to save time\n",
    "source /tmp/variables.sh\n",
    "\n",
    "# begin in home directory\n",
    "cd ~\n",
    "\n",
    "# use a conditional block to create a new project directory\n",
    "# if directory does not exist:\n",
    "if [ ! -d $project_dir ] # ! means 'does not'\n",
    "# then make a directory\n",
    "then\n",
    "    mkdir -p $project_dir\n",
    "fi\n",
    "\n",
    "# a second block that runs on the same conditions but has a separate function\n",
    "if [ ! -d $project ]\n",
    "then\n",
    "    cd $project_dir\n",
    "    git clone $project_repo # clones the project to the home directory!\n",
    "    cd ~\n",
    "fi"
   ]
  },
  {
   "cell_type": "markdown",
   "metadata": {},
   "source": [
    "### View all files in any given GitHub project\n",
    "\n",
    "Print a working directory of a project with a simple script\n",
    "\n",
    "Commonly Used Commands:\n",
    "> ls: list\n",
    "\n",
    "> pwd: print working directory\n",
    "\n",
    "> cd $project: move inside a given project's directory"
   ]
  },
  {
   "cell_type": "code",
   "execution_count": 3,
   "metadata": {
    "vscode": {
     "languageId": "shellscript"
    }
   },
   "outputs": [
    {
     "name": "stdout",
     "output_type": "stream",
     "text": [
      "/Users/maryamabdul-aziz/vscode/teacher\n",
      "Gemfile\n",
      "Gemfile.lock\n",
      "LICENSE\n",
      "Makefile\n",
      "README.md\n",
      "_config.yml\n",
      "\u001b[34m_data\u001b[m\u001b[m\n",
      "\u001b[34m_includes\u001b[m\u001b[m\n",
      "\u001b[34m_layouts\u001b[m\u001b[m\n",
      "\u001b[34m_notebooks\u001b[m\u001b[m\n",
      "\u001b[34m_posts\u001b[m\u001b[m\n",
      "\u001b[34m_site\u001b[m\u001b[m\n",
      "\u001b[34massets\u001b[m\u001b[m\n",
      "csa.md\n",
      "csp.md\n",
      "csse.md\n",
      "\u001b[34mimages\u001b[m\u001b[m\n",
      "index.md\n",
      "indexBlogs.md\n",
      "\u001b[34mscripts\u001b[m\u001b[m\n"
     ]
    }
   ],
   "source": [
    "%%script bash\n",
    "\n",
    "source /tmp/variables.sh\n",
    "\n",
    "cd $project # changes directory to given project name\n",
    "pwd\n",
    "\n",
    "ls # lists all files"
   ]
  },
  {
   "cell_type": "markdown",
   "metadata": {},
   "source": [
    "## Look at list of hidden and long attributes\n",
    "\n",
    "Some files will be hidden from lists because they contain content that the average user will not engage with, like configuration or settings. Using bash scripts, we can view those files and their attributes\n",
    "\n",
    "Commonly Used Commands:\n",
    "> ls -a: lists all hidden files\n",
    "\n",
    "> ls -l: lists files with long format"
   ]
  },
  {
   "cell_type": "code",
   "execution_count": 4,
   "metadata": {
    "vscode": {
     "languageId": "shellscript"
    }
   },
   "outputs": [
    {
     "name": "stderr",
     "output_type": "stream",
     "text": [
      "bash: line 5: cd: /Users/maryamabdul-aziz//Users/maryamabdul-aziz/vscode/teacher: No such file or directory\n"
     ]
    },
    {
     "name": "stdout",
     "output_type": "stream",
     "text": [
      "/Users/maryamabdul-aziz/vscode/student/_notebooks\n",
      "total 144\n",
      "drwxr-xr-x   8 maryamabdul-aziz  staff    256 Sep  6 23:19 \u001b[34m.\u001b[m\u001b[m\n",
      "drwxr-xr-x  24 maryamabdul-aziz  staff    768 Sep  4 23:37 \u001b[34m..\u001b[m\u001b[m\n",
      "-rw-r--r--@  1 maryamabdul-aziz  staff   6148 Sep  3 22:28 .DS_Store\n",
      "-rw-r--r--   1 maryamabdul-aziz  staff   1388 Sep  6 23:14 2023-08-30-Hacks-wk-0.ipynb\n",
      "-rw-r--r--   1 maryamabdul-aziz  staff   5669 Sep  5 23:24 2023-08-30-Hacks-wk-1.ipynb\n",
      "-rw-r--r--   1 maryamabdul-aziz  staff  21980 Sep  6 23:04 2023-08-31-Hacks-wk-2.ipynb\n",
      "-rw-r--r--   1 maryamabdul-aziz  staff  18905 Sep  6 23:13 2023-09-05-Hacks-wk-3.ipynb\n",
      "-rw-r--r--   1 maryamabdul-aziz  staff   6677 Sep  7 12:58 2023-09-06-Pair-Showcase-Linux.ipynb\n"
     ]
    }
   ],
   "source": [
    "%%script bash\n",
    "# List hidden files in long format:\n",
    "\n",
    "source /tmp/variables.sh\n",
    "\n",
    "cd ~/$project\n",
    "pwd\n",
    "\n",
    "# lists all hidden files in long format\n",
    "ls -al # notice how two commands were used together"
   ]
  },
  {
   "cell_type": "code",
   "execution_count": 5,
   "metadata": {
    "vscode": {
     "languageId": "shellscript"
    }
   },
   "outputs": [
    {
     "name": "stderr",
     "output_type": "stream",
     "text": [
      "bash: line 7: fg: no job control\n"
     ]
    },
    {
     "name": "stdout",
     "output_type": "stream",
     "text": [
      "/Users/maryamabdul-aziz/vscode/student/_notebooks\n",
      "total 128\n",
      "-rw-r--r--  1 maryamabdul-aziz  staff   1388 Sep  6 23:14 2023-08-30-Hacks-wk-0.ipynb\n",
      "-rw-r--r--  1 maryamabdul-aziz  staff   5669 Sep  5 23:24 2023-08-30-Hacks-wk-1.ipynb\n",
      "-rw-r--r--  1 maryamabdul-aziz  staff  21980 Sep  6 23:04 2023-08-31-Hacks-wk-2.ipynb\n",
      "-rw-r--r--  1 maryamabdul-aziz  staff  18905 Sep  6 23:13 2023-09-05-Hacks-wk-3.ipynb\n",
      "-rw-r--r--  1 maryamabdul-aziz  staff   6677 Sep  7 12:58 2023-09-06-Pair-Showcase-Linux.ipynb\n"
     ]
    }
   ],
   "source": [
    "%%script bash\n",
    "# List files inside of a given folder in a  project\n",
    "\n",
    "\n",
    "source /tmp/variables.sh\n",
    "\n",
    "# looks at _posts inside project. 'posts' can be replaced with any folder within the project\n",
    "%cd $posts\n",
    "pwd\n",
    "\n",
    "# lists files in long format\n",
    "ls -l"
   ]
  },
  {
   "cell_type": "markdown",
   "metadata": {},
   "source": [
    "### Read data from a Markdown file\n",
    "\n",
    "Commonly Used Commands:\n",
    "> cat: reads data from a file and gives its contents as its output"
   ]
  },
  {
   "cell_type": "code",
   "execution_count": 6,
   "metadata": {
    "vscode": {
     "languageId": "shellscript"
    }
   },
   "outputs": [
    {
     "name": "stdout",
     "output_type": "stream",
     "text": [
      "## Blog site using GitHub Pages and Jekyll\n",
      "> This site is intended for Students.   This is to record plans, complete hacks, and do work for your learnings.\n",
      "- This can be customized to support computer science as you work through pathway (JavaScript, Python/Flask, Java/Spring)\n",
      "- All tangible artifact work is in a _posts or in a _notebooks.  \n",
      "- Front matter (aka meta data) in ipynb and md files is used to organize information according to week and column in running web site.\n",
      "\n",
      "## GitHub Pages\n",
      "All `GitHub Pages` websites are managed on GitHub infrastructure. GitHub uses `Jekyll` to tranform your content into static websites and blogs. Each time we change files in GitHub it initiates a GitHub Action that rebuilds and publishes the site with Jekyll.  \n",
      "- GitHub Pages is powered by: [Jekyll](https://jekyllrb.com/).\n",
      "- Publised teacher website: [nighthawkcoders.github.io/teacher](https://nighthawkcoders.github.io/teacher/)\n",
      "\n",
      "## Preparing a Preview Site \n",
      "In all development, it is recommended to test your code before deployment.  The GitHub Pages development process is optimized by testing your development on your local machine, prior to files on GitHub\n",
      "\n",
      "Development Cycle. For GitHub pages, the tooling described below will create a development cycle  `make-code-save-preview`.  In the development cycle, it is a requirement to preview work locally, prior to doing a VSCode `commit` to git.\n",
      "\n",
      "Deployment Cycle.  In the deplopyment cycle, `sync-github-action-review`, it is a requirement to complete the development cycle prior to doing a VSCode `sync`.  The sync triggers github repository update.  The action starts the jekyll build to publish the website.  Any step can have errors and will require you to do a review.\n",
      "\n",
      "### WSL and/or Ubuntu installation requirements\n",
      "- The result of these step is Ubuntu tools to run preview server.  These procedures were created using [jekyllrb.com](https://jekyllrb.com/docs/installation/ubuntu/)\n",
      "- Run scripts in scripts directory of teacher repo: setup_ubuntu.sh and activate.sh.  Or, follow commands below.\n",
      "```bash\n",
      "## WSL/Ubuntu commands\n",
      "# sudo apt install, installs packages for Ubuntu\n",
      "echo \"=== Ugrade Packages ===\"\n",
      "sudo apt update\n",
      "sudo apt upgrade -y\n",
      "#\n",
      "echo \"=== Install Ruby ===\"\n",
      "sudo apt install -y ruby-full build-essential zlib1g-dev\n",
      "# \n",
      "echo \"=== Install Python ===\"\n",
      "sudo apt-get install -y python3 python3-pip python-is-python3\n",
      "#    \n",
      "echo \"=== Install Jupyter Notebook ===\"\n",
      "sudo apt-get install -y jupyter-notebook\n",
      "\n",
      "# bash commands, install user requirements.\n",
      "echo \"=== GitHub pages build tools  ===\"\n",
      "export GEM_HOME=\"$HOME/gems\"\n",
      "export PATH=\"$HOME/gems/bin:$PATH\"\n",
      "echo '# Install Ruby Gems to ~/gems' >> ~/.bashrc\n",
      "echo 'export GEM_HOME=\"$HOME/gems\"' >> ~/.bashrc\n",
      "echo 'export PATH=\"$HOME/gems/bin:$PATH\"' >> ~/.bashrc\n",
      "echo \"=== Gem install starting, thinking... ===\"\n",
      "gem install jekyll bundler\n",
      "head -30 ./teacher/scripts/activate.sh\n",
      "echo \"=== !!!Start a new Terminal!!! ===\"\n",
      "```\n",
      "\n",
      "### MacOs installation requirements \n",
      "- Ihe result of these step are MacOS tools to run preview server.  These procedures were created using [jekyllrb.com](https://jekyllrb.com/docs/installation/macos/). Run scripts in scripts directory of teacher repo: setup_macos.sh and activate_macos.sh.  Or, follow commands below.\n",
      "```bash\n",
      "# MacOS commands\n",
      "# brew install, installs packages for MacOS\n",
      "echo \"=== Ugrade Packages ===\"\n",
      "brew update\n",
      "brew upgrade\n",
      "#\n",
      "echo \"=== Install Ruby ===\"\n",
      "brew install chruby ruby-install xz\n",
      "ruby-install ruby 3.1.3\n",
      "#\n",
      "echo \"=== Install Python ===\"\n",
      "brew install python\n",
      "#    \n",
      "echo \"=== Install Jupyter Notebook ===\"\n",
      "brew install jupyter\n",
      "\n",
      "# bash commands, install user requirements.\n",
      "export GEM_HOME=\"$HOME/gems\"\n",
      "export PATH=\"$HOME/gems/bin:$PATH\"\n",
      "echo '# Install Ruby Gems to ~/gems' >> ~/.zshrc\n",
      "echo 'export GEM_HOME=\"$HOME/gems\"' >> ~/.zshrc\n",
      "echo 'export PATH=\"$HOME/gems/bin:$PATH\"' >> ~/.zshrc\n",
      "echo \"=== Gem install starting, thinking... ===\"\n",
      "gem install jekyll bundler\n",
      "head -30 ./teacher/scripts/activate.sh\n",
      "echo \"=== !!!Start a new Terminal!!! ===\"\n",
      "```\n",
      "\n",
      "### Preview\n",
      "- The result of these step is server running on: http://0.0.0.0:4100/teacher/.  Regeneration messages will run in terminal on any save.  Press the Enter or Return key in the terminal at any time to enter commands.\n",
      "\n",
      "- Complete installation\n",
      "```bash\n",
      "bundle install\n",
      "```\n",
      "- Run Server.  This requires running terminal commands `make`, `make stop`, `make clean`, or `make convert` to manage the running server.  Logging of details will appear in terminal.   A `Makefile` has been created in project to support commands and start processes.\n",
      "\n",
      "    - Start preview server in terminal\n",
      "    ```bash\n",
      "    cd ~/vscode/teacher  # my project location, adapt as necessary\n",
      "    make\n"
     ]
    },
    {
     "name": "stdout",
     "output_type": "stream",
     "text": [
      "    ```\n",
      "\n",
      "    - Terminal output of shows server address. Cmd or Ctl click http location to open preview server in browser. Example Server address message... \n",
      "    ```\n",
      "    Server address: http://0.0.0.0:4100/teacher/\n",
      "    ```\n",
      "\n",
      "    - Save on ipynb or md activiates \"regeneration\". Refresh browser to see updates. Example terminal message...\n",
      "    ```\n",
      "    Regenerating: 1 file(s) changed at 2023-07-31 06:54:32\n",
      "        _notebooks/2024-01-04-cockpit-setup.ipynb\n",
      "    ```\n",
      "\n",
      "    - Terminal message are generated from background processes.  Click return or enter to obtain prompt and use terminal as needed for other tasks.  Alway return to root of project `cd ~/vscode/teacher` for all \"make\" actions. \n",
      "        \n",
      "\n",
      "    - Stop preview server, but leave constructed files in project for your review.\n",
      "    ```bash\n",
      "    make stop\n",
      "    ```\n",
      "\n",
      "    - Stop server and \"clean\" constructed files, best choice when renaming files to eliminate potential duplicates in constructed files.\n",
      "    ```bash\n",
      "    make clean\n",
      "    ```\n",
      "\n",
      "    - Test notebook conversions, best choice to see if IPYNB conversion is acting up.\n",
      "    ```bash\n",
      "    make convert\n",
      "    ```\n"
     ]
    }
   ],
   "source": [
    "%%script bash\n",
    "\n",
    "source /tmp/variables.sh\n",
    "\n",
    "cd ~/vscode/student\n",
    "\n",
    "# show contents of file\n",
    "cat README.md  \n",
    "# 'README.md' can be exchanged for any file name"
   ]
  },
  {
   "cell_type": "markdown",
   "metadata": {},
   "source": [
    "### ~~Env~~, Git, and Github\n",
    "*Note: I don't fully understand 'env' quite yet, but after reading its output, I have some understanding of what it's meant for*\n",
    "\n",
    "Commonly Used Commands:\n",
    "> env: shows settings for shell\n",
    "\n",
    "> git clone: sets up directory of files on local machine\n",
    "\n",
    "> .git: hidden directory that establishes the relationship between the machine and GitHub's git server"
   ]
  },
  {
   "cell_type": "code",
   "execution_count": 7,
   "metadata": {
    "vscode": {
     "languageId": "shellscript"
    }
   },
   "outputs": [
    {
     "name": "stdout",
     "output_type": "stream",
     "text": [
      "VSCODE_CRASH_REPORTER_PROCESS_TYPE=extensionHost\n",
      "GEM_HOME=/Users/maryamabdul-aziz/gems\n",
      "TERM=xterm-color\n",
      "SHELL=/bin/zsh\n",
      "CLICOLOR=1\n",
      "TMPDIR=/var/folders/mq/kcs_jpf56bz_c4y467zjlml00000gp/T/\n",
      "PYTHONUNBUFFERED=1\n",
      "ORIGINAL_XDG_CURRENT_DESKTOP=undefined\n",
      "MallocNanoZone=0\n",
      "PYDEVD_USE_FRAME_EVAL=NO\n",
      "PYTHONIOENCODING=utf-8\n",
      "USER=maryamabdul-aziz\n",
      "COMMAND_MODE=unix2003\n",
      "SSH_AUTH_SOCK=/private/tmp/com.apple.launchd.LGFPn3G97r/Listeners\n",
      "__CF_USER_TEXT_ENCODING=0x1F6:0x0:0x0\n",
      "PAGER=cat\n",
      "ELECTRON_RUN_AS_NODE=1\n",
      "VSCODE_AMD_ENTRYPOINT=vs/workbench/api/node/extensionHostProcess\n",
      "PATH=/usr/local/bin:/Users/maryamabdul-aziz/Library/Python/3.11/bin:/Users/maryamabdul-aziz/.rbenv/shims:/Users/maryamabdul-aziz/gems/bin:/Users/maryamabdul-aziz/.rbenv/shims:/usr/local/bin:/System/Cryptexes/App/usr/bin:/usr/bin:/bin:/usr/sbin:/sbin:/var/run/com.apple.security.cryptexd/codex.system/bootstrap/usr/local/bin:/var/run/com.apple.security.cryptexd/codex.system/bootstrap/usr/bin:/var/run/com.apple.security.cryptexd/codex.system/bootstrap/usr/appleinternal/bin:/Users/maryamabdul-aziz/.rbenv/shims:/Users/maryamabdul-aziz/gems/bin:/Users/maryamabdul-aziz/.rbenv/shims:/usr/local/bin:/System/Cryptexes/App/usr/bin:/usr/bin:/bin:/usr/sbin:/sbin:/var/run/com.apple.security.cryptexd/codex.system/bootstrap/usr/local/bin:/var/run/com.apple.security.cryptexd/codex.system/bootstrap/usr/bin:/var/run/com.apple.security.cryptexd/codex.system/bootstrap/usr/appleinternal/bin\n",
      "_=/usr/bin/env\n",
      "__CFBundleIdentifier=com.microsoft.VSCode\n",
      "PWD=/Users/maryamabdul-aziz/vscode/student/_notebooks\n",
      "VSCODE_HANDLES_UNCAUGHT_ERRORS=true\n",
      "MPLBACKEND=module://matplotlib_inline.backend_inline\n",
      "XPC_FLAGS=0x0\n",
      "FORCE_COLOR=1\n",
      "RBENV_SHELL=zsh\n",
      "XPC_SERVICE_NAME=0\n",
      "SHLVL=1\n",
      "HOME=/Users/maryamabdul-aziz\n",
      "VSCODE_NLS_CONFIG={\"locale\":\"en-us\",\"osLocale\":\"en-us\",\"availableLanguages\":{},\"_languagePackSupport\":true}\n"
     ]
    },
    {
     "name": "stdout",
     "output_type": "stream",
     "text": [
      "PYDEVD_IPYTHON_COMPATIBLE_DEBUGGING=1\n",
      "LOGNAME=maryamabdul-aziz\n",
      "LC_CTYPE=UTF-8\n",
      "VSCODE_IPC_HOOK=/Users/maryamabdul-aziz/Library/Application Support/Code/1.81-main.sock\n",
      "VSCODE_CODE_CACHE_PATH=/Users/maryamabdul-aziz/Library/Application Support/Code/CachedData/6c3e3dba23e8fadc360aed75ce363ba185c49794\n",
      "CLICOLOR_FORCE=1\n",
      "VSCODE_PID=1551\n",
      "GIT_PAGER=cat\n",
      "VSCODE_CWD=/\n"
     ]
    }
   ],
   "source": [
    "%%script bash\n",
    "\n",
    "# While I do not fully understand what 'env' accomplishes, I recognize some of the information that it outputs\n",
    "env"
   ]
  },
  {
   "cell_type": "code",
   "execution_count": 8,
   "metadata": {
    "vscode": {
     "languageId": "shellscript"
    }
   },
   "outputs": [
    {
     "name": "stdout",
     "output_type": "stream",
     "text": [
      "total 96\n",
      "-rw-r--r--   1 maryamabdul-aziz  staff   122 Aug 28 13:30 Gemfile\n",
      "-rw-r--r--   1 maryamabdul-aziz  staff  7348 Aug 28 13:38 Gemfile.lock\n",
      "-rw-r--r--   1 maryamabdul-aziz  staff  1081 Aug 28 13:30 LICENSE\n",
      "-rw-r--r--   1 maryamabdul-aziz  staff  3120 Aug 28 13:30 Makefile\n",
      "-rw-r--r--   1 maryamabdul-aziz  staff  5798 Aug 28 13:30 README.md\n",
      "-rw-r--r--   1 maryamabdul-aziz  staff   451 Aug 30 13:55 _config.yml\n",
      "drwxr-xr-x   3 maryamabdul-aziz  staff    96 Aug 29 13:42 \u001b[34m_data\u001b[m\u001b[m\n",
      "drwxr-xr-x  10 maryamabdul-aziz  staff   320 Aug 28 13:30 \u001b[34m_includes\u001b[m\u001b[m\n",
      "drwxr-xr-x   7 maryamabdul-aziz  staff   224 Aug 28 13:30 \u001b[34m_layouts\u001b[m\u001b[m\n",
      "drwxr-xr-x   8 maryamabdul-aziz  staff   256 Sep  6 23:19 \u001b[34m_notebooks\u001b[m\u001b[m\n",
      "drwxr-xr-x  19 maryamabdul-aziz  staff   608 Sep  6 23:19 \u001b[34m_posts\u001b[m\u001b[m\n",
      "drwxr-xr-x  15 maryamabdul-aziz  staff   480 Sep  6 23:19 \u001b[34m_site\u001b[m\u001b[m\n",
      "-rw-r--r--   1 maryamabdul-aziz  staff   115 Aug 29 13:25 compsci.md\n",
      "drwxr-xr-x  14 maryamabdul-aziz  staff   448 Sep  5 13:40 \u001b[34mimages\u001b[m\u001b[m\n",
      "-rw-------   1 maryamabdul-aziz  staff  1169 Aug 28 13:33 index.md\n",
      "-rw-r--r--   1 maryamabdul-aziz  staff    53 Aug 28 13:30 indexBlogs.md\n",
      "-rw-r--r--   1 maryamabdul-aziz  staff    50 Aug 28 13:30 indexHelp.md\n",
      "drwxr-xr-x   5 maryamabdul-aziz  staff   160 Aug 28 13:30 \u001b[34mscripts\u001b[m\u001b[m\n"
     ]
    }
   ],
   "source": [
    "%%script bash\n",
    "\n",
    "source /tmp/variables.sh\n",
    "\n",
    "cd $project\n",
    "\n",
    "# navigate to hidden directory and print list of files in long form\n",
    "cd ~/vscode/student\n",
    "ls -l\n",
    "\n",
    "# unsure of the function of the next line of code, so I've commented it out\n",
    "# cat config\n"
   ]
  }
 ],
 "metadata": {
  "kernelspec": {
   "display_name": "Python 3",
   "language": "python",
   "name": "python3"
  },
  "language_info": {
   "codemirror_mode": {
    "name": "ipython",
    "version": 3
   },
   "file_extension": ".py",
   "mimetype": "text/x-python",
   "name": "python",
   "nbconvert_exporter": "python",
   "pygments_lexer": "ipython3",
   "version": "3.11.4"
  },
  "orig_nbformat": 4
 },
 "nbformat": 4,
 "nbformat_minor": 2
}
