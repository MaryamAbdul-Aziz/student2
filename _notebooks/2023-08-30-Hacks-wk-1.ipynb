{
 "cells": [
  {
   "cell_type": "markdown",
   "metadata": {},
   "source": [
    "---\n",
    "toc: true\n",
    "title: Conditionals and Python \n",
    "layout: post\n",
    "description: My hacks from this week (week 1)\n",
    "type: hacks\n",
    "courses: { compsci: {week: 1} }\n",
    "---"
   ]
  },
  {
   "cell_type": "code",
   "execution_count": 1,
   "metadata": {},
   "outputs": [
    {
     "name": "stdout",
     "output_type": "stream",
     "text": [
      "A equals B\n"
     ]
    }
   ],
   "source": [
    "# prints a statement based on a simple if function\n",
    "a = 1\n",
    "b = 1\n",
    "if (a == b):\n",
    "    print(\"A equals B\")\n"
   ]
  },
  {
   "cell_type": "code",
   "execution_count": 2,
   "metadata": {},
   "outputs": [
    {
     "name": "stdout",
     "output_type": "stream",
     "text": [
      "Adding all numbers 1-100...\n",
      "= 5050\n",
      "Sum complete.\n"
     ]
    }
   ],
   "source": [
    "# sums all numbers from 1 to 100\n",
    "import time\n",
    "x = list(range(1,101)) # This takes all numbers 1-100\n",
    "print('Adding all numbers 1-100...')\n",
    "time.sleep(1.5) # waits for for 1.5 seconds\n",
    "print('=',sum(x))  \n",
    "time.sleep(1) # waits for for 1 second\n",
    "print('Sum complete.')"
   ]
  },
  {
   "cell_type": "code",
   "execution_count": 3,
   "metadata": {},
   "outputs": [
    {
     "name": "stdout",
     "output_type": "stream",
     "text": [
      "Add all numbers between any two given values\n",
      "The sum of the numbers between 4 and 7 is 22\n",
      "Sum complete.\n"
     ]
    }
   ],
   "source": [
    "# sums all numbers between given user input\n",
    "import time\n",
    "print('Add all numbers between any two given values')\n",
    "x = int(input('What is the smaller number?\\n'))\n",
    "y = int(input('What is the larger number?\\n'))\n",
    "\n",
    "z = list(range(x,y+1)) # creates a list from which to add all numbers\n",
    "time.sleep(.7) # waits for for .7 seconds\n",
    "print('The sum of the numbers between',x,'and',y,'is',sum(z))  \n",
    "print('Sum complete.')"
   ]
  },
  {
   "cell_type": "code",
   "execution_count": 4,
   "metadata": {},
   "outputs": [
    {
     "name": "stdout",
     "output_type": "stream",
     "text": [
      "Add all numbers between any two given values\n",
      "The sum of the numbers between these two values = 22\n",
      "Sum complete.\n"
     ]
    }
   ],
   "source": [
    "# sums all numbers between given user input including numbers in descending value\n",
    "# however those in descending value will output the opposite (negative) of the true sum \n",
    "print('Add all numbers between any two given values')\n",
    "x = int(input('What is your first number?\\n'))\n",
    "y = int(input('What is your second number?\\n'))\n",
    "\n",
    "\n",
    "if x > y: # to fix any error in user output causing\n",
    "    start = y\n",
    "    end = x\n",
    "else:\n",
    "    start = x\n",
    "    end = y\n",
    "\n",
    "z = list(range(start, end+1)) # adding 1 to y to get range of numbers including y\n",
    "\n",
    "print('The sum of the numbers between these two values =',sum(z))\n",
    "print('Sum complete.')"
   ]
  },
  {
   "cell_type": "code",
   "execution_count": 5,
   "metadata": {},
   "outputs": [
    {
     "name": "stdout",
     "output_type": "stream",
     "text": [
      "1\n",
      "2\n",
      "3\n",
      "4\n",
      "5\n",
      "6\n",
      "7\n",
      "8\n",
      "9\n",
      "10\n",
      "11\n",
      "12\n",
      "13\n",
      "14\n",
      "15\n",
      "16\n",
      "17\n",
      "18\n",
      "19\n",
      "20\n",
      "21\n",
      "22\n",
      "23\n",
      "24\n",
      "25\n",
      "26\n",
      "27\n",
      "28\n",
      "29\n",
      "30\n",
      "31\n",
      "32\n",
      "33\n",
      "34\n",
      "35\n",
      "36\n",
      "37\n",
      "38\n",
      "39\n",
      "40\n",
      "41\n",
      "42\n",
      "43\n",
      "44\n",
      "45\n",
      "46\n",
      "47\n",
      "48\n",
      "49\n",
      "50\n"
     ]
    }
   ],
   "source": [
    "# lists all numbers between two given values\n",
    "w = int(input('What is your first number?\\n'))\n",
    "y = int(input('What is your second number?\\n'))\n",
    "\n",
    "if w > y:\n",
    "    print('Please input numbers in ascending order')\n",
    "    \n",
    "elif w == y:\n",
    "    print('No range! These are the same number')\n",
    "    \n",
    "while w < y:\n",
    "    print (w)\n",
    "    w += 1\n",
    "    if w > y:\n",
    "        break\n",
    "    elif w == y:\n",
    "        print (y)\n",
    "        break"
   ]
  },
  {
   "cell_type": "markdown",
   "metadata": {},
   "source": [
    "## Coding Definitions\n",
    "\n",
    "> code block: code which is grouped together\n",
    "\n",
    "> sequence: the order in which commands are executed by a computer\n",
    "\n",
    "> selection: points where a program branches off into different steps depending on some conditional. also known as an 'if statement'\n",
    "\n",
    "> iteration: a function that repeats a specific code block until a specified result occured"
   ]
  }
 ],
 "metadata": {
  "kernelspec": {
   "display_name": "Python 3",
   "language": "python",
   "name": "python3"
  },
  "language_info": {
   "codemirror_mode": {
    "name": "ipython",
    "version": 3
   },
   "file_extension": ".py",
   "mimetype": "text/x-python",
   "name": "python",
   "nbconvert_exporter": "python",
   "pygments_lexer": "ipython3",
   "version": "3.11.4"
  },
  "orig_nbformat": 4
 },
 "nbformat": 4,
 "nbformat_minor": 2
}
