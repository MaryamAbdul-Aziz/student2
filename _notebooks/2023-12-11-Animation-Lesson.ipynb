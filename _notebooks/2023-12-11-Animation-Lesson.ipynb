{
 "cells": [
  {
   "cell_type": "markdown",
   "metadata": {},
   "source": [
    "---\n",
    "comments: true\n",
    "layout: notebook\n",
    "title: Animation Lesson\n",
    "description: Lesson on adding animation to OOP Game\n",
    "type: plans\n",
    "toc: true\n",
    "courses: { compsci: {week: 16} }\n",
    "---"
   ]
  },
  {
   "cell_type": "markdown",
   "metadata": {},
   "source": [
    "Link to teacher's repository: [https://github.com/deanphillips24/oop_project_csse2](https://github.com/deanphillips24/oop_project_csse2)"
   ]
  },
  {
   "cell_type": "markdown",
   "metadata": {},
   "source": [
    "# Basic Steps of Animation\n",
    "\n",
    "Below is a sprite of Mr. Lopez. This was the first sprite created for his spritesheet, which outlines the animation of his movement \n",
    "frame by frame.\n",
    "\n",
    "<img src=\"{{ site.baseurl }}/images/gameimages/1_lopez.png\" alt=\"1_lopez\" style=\"height: 138px; width: 156px\">"
   ]
  },
  {
   "cell_type": "markdown",
   "metadata": {},
   "source": [
    "Below is the spritesheet of Mr. Lopez. Each row has a different side of him, because in the project that we used this in, he was able to move freely in all 4 directions. His animation is simple, and depicts basic movement.\n",
    "\n",
    "<img src=\"{{ site.baseurl }}/images/gameimages/lopezspritesheet3.png\" alt=\"lopezspritesheet3\" style=\"height: 184px; width: 210px;\">"
   ]
  },
  {
   "cell_type": "markdown",
   "metadata": {},
   "source": [
    "The first change that we made to the spritesheet was the addition of Mr. Lopez's cane. This was done to show a simple difference in how sprites can appear in the game. Our next step in animation will be drawing new sprites for running and idle animation. \n",
    "\n",
    "<img src=\"{{ site.baseurl }}/images/gameimages/canelopezspritesheet.png\" alt=\"canelopezspritesheet\" style=\"height: 184px; width: 210px\">"
   ]
  },
  {
   "cell_type": "markdown",
   "metadata": {},
   "source": [
    "Below is the spritesheet of spritesheet with a few more rows idle animation, running, and punch (attack).\n",
    "\n",
    "<img src=\"{{ site.baseurl }}/images/gameimages/lopezanimation.png\" alt=\"lopezanimation\" style=\"height: 368; width: 732\">"
   ]
  },
  {
   "cell_type": "markdown",
   "metadata": {},
   "source": [
    "# Additions to Game Levels\n",
    "\n",
    "Adding new animations gives the player new capabilities. For example, drawing sprites for running allows the player to feel as if they are running in the game, rather than walking everywhere. \n",
    "\n",
    "In our code, running will be based on speed, so there will be different lines in the spritesheet corresponding to different speeds (i.e. row 1 = walking)."
   ]
  },
  {
   "cell_type": "markdown",
   "metadata": {},
   "source": [
    "# Step 1\n",
    "\n",
    "Download this image and change the file path to fit it. \n",
    "\n",
    "[Spritesheet Linked Here](https://github.com/DeanPhillips24/csse2_individual/blob/main/images/gameimages/lopezanimation.png)\n",
    "\n",
    "\n",
    "The code is very easy to modify with new animations. The biggest change would be the changing of rows and frames, which we will be changing next."
   ]
  },
  {
   "cell_type": "markdown",
   "metadata": {},
   "source": [
    "# Step 2\n",
    "\n",
    "Modify your rows in OOP-game-levels.md to match this. "
   ]
  },
  {
   "cell_type": "code",
   "execution_count": 7,
   "metadata": {},
   "outputs": [
    {
     "ename": "SyntaxError",
     "evalue": "invalid syntax (3689040070.py, line 3)",
     "output_type": "error",
     "traceback": [
      "\u001b[0;36m  Cell \u001b[0;32mIn[7], line 3\u001b[0;36m\u001b[0m\n\u001b[0;31m    src: \"/filepath/lopezanimation.png\", // Modify this to match your file path\u001b[0m\n\u001b[0m                                         ^\u001b[0m\n\u001b[0;31mSyntaxError\u001b[0m\u001b[0;31m:\u001b[0m invalid syntax\n"
     ]
    }
   ],
   "source": [
    "players: {\n",
    "        mario: {\n",
    "          src: \"/filepath/lopezanimation.png\", // Modify this to match your file path\n",
    "          width: 46,\n",
    "          height: 52.5,\n",
    "          idle: { row: 6, frames: 1, idleFrame: {column: 1, frames: 0} },\n",
    "          a: { row: 1, frames: 4, idleFrame: { column: 1, frames: 0 } }, // Right Movement\n",
    "          d: { row: 2, frames: 4, idleFrame: { column: 1, frames: 0 } }, // Left Movement \n",
    "          runningLeft: { row: 5, frames: 4, idleFrame: {column: 1, frames: 0} },\n",
    "          runningRight: { row: 4, frames: 4, idleFrame: {column: 1, frames: 0} },\n",
    "          s: {}, // Stop the movement \n",
    "        }\n",
    "      },"
   ]
  },
  {
   "cell_type": "markdown",
   "metadata": {},
   "source": [
    "# Step 3\n",
    "\n",
    "Make additions to the Player.js file. Add \"speedLimit\" here."
   ]
  },
  {
   "cell_type": "code",
   "execution_count": null,
   "metadata": {},
   "outputs": [],
   "source": [
    "export class Player extends Character {\n",
    "    // constructors sets up Character object \n",
    "    constructor(canvas, image, speedRatio, playerData, speedLimit) {\n",
    "        super(canvas, image, speedRatio, playerData.width, playerData.height);"
   ]
  },
  {
   "cell_type": "markdown",
   "metadata": {},
   "source": [
    "# Step 4\n",
    "\n",
    "Add this property of speedLimit just under your event listeners."
   ]
  },
  {
   "cell_type": "code",
   "execution_count": null,
   "metadata": {},
   "outputs": [],
   "source": [
    "// Additional Property for Speed Limit\n",
    "        this.speedLimit = speedLimit;\n",
    "        this.currentSpeed = 0;\n",
    "        this.acceleration = 0.11; // Adjust based on preference\n",
    "        this.deceleration = 0.1; // Adjust based on preference "
   ]
  },
  {
   "cell_type": "markdown",
   "metadata": {},
   "source": [
    "# Step 5\n",
    "\n",
    "Apply the speedLimit under the update function. "
   ]
  },
  {
   "cell_type": "code",
   "execution_count": null,
   "metadata": {},
   "outputs": [],
   "source": [
    "// Player updates\n",
    "    update() {\n",
    "        // Adjust speed based on pressed keys\n",
    "        if (this.pressedKeys['a'] && this.movement.left) {\n",
    "            this.currentSpeed -= this.acceleration;\n",
    "        } else if (this.pressedKeys['d'] && this.movement.right) {\n",
    "            this.currentSpeed += this.acceleration;\n",
    "        } else {\n",
    "            // Decelerate when no movement keys are pressed\n",
    "            this.currentSpeed *= (1 - this.deceleration);\n",
    "        }\n",
    "\n",
    "        // Apply speed limit\n",
    "        if (Math.abs(this.currentSpeed) > this.speedLimit) {\n",
    "            this.currentSpeed = this.currentSpeed > 0 ? this.speedLimit : -this.speedLimit;\n",
    "        }"
   ]
  },
  {
   "cell_type": "markdown",
   "metadata": {},
   "source": [
    "# Step 6\n",
    "\n",
    "Now we will be adding code so that the character transitions from moving left and right to smoothly moving into a running animation. The first thing you want to do is add a threshold so that when the character reaches a certain speed the sprite image switches to that sprite row."
   ]
  },
  {
   "cell_type": "code",
   "execution_count": null,
   "metadata": {},
   "outputs": [],
   "source": [
    "// Apply speed limit\n",
    "        if (Math.abs(this.currentSpeed) > this.speedLimit) {\n",
    "            this.currentSpeed = this.currentSpeed > 0 ? this.speedLimit : -this.speedLimit;\n",
    "        }\n",
    "\n",
    "        // Update player position based on speed\n",
    "        this.x += this.currentSpeed;\n",
    "\n",
    "        // Check for speed threshold to change sprite sheet rows\n",
    "        const walkingSpeedThreshold = 1; // Walking speed threshold\n",
    "        const runningSpeedThreshold = 5; // Running speed threshold\n"
   ]
  },
  {
   "cell_type": "markdown",
   "metadata": {},
   "source": [
    "This will go under where it says the\n",
    " //Player update\n",
    " update(){"
   ]
  },
  {
   "cell_type": "markdown",
   "metadata": {},
   "source": [
    "# Step 7\n",
    "Next we need to add code so that it can switch rows on the sprite sheet picture based on which direction you are moving."
   ]
  },
  {
   "cell_type": "code",
   "execution_count": null,
   "metadata": {},
   "outputs": [],
   "source": [
    "if (Math.abs(this.currentSpeed) >= runningSpeedThreshold) {\n",
    "            // Change sprite sheet row for running\n",
    "            if (this.currentSpeed > 0) {\n",
    "            this.setFrameY(this.playerData.runningRight.row);\n",
    "            } else {\n",
    "                this.setFrameY(this.playerData.runningLeft.row);\n",
    "            }\n",
    "        } else if (Math.abs(this.currentSpeed) >= walkingSpeedThreshold) {\n",
    "            // Change sprite sheet row for walking\n",
    "            if (this.currentSpeed > 0) {\n",
    "                this.setFrameY(this.playerData.d.row);\n",
    "            } else {\n",
    "                this.setFrameY(this.playerData.a.row);\n",
    "            }\n",
    "            } else {\n",
    "            // Revert to normal animation if speed is below the walking threshold\n",
    "            this.setFrameY(this.playerData.idle.row);\n",
    "            }\n",
    "\n",
    "        // Perform super update actions\n",
    "        super.update();\n",
    "    }"
   ]
  },
  {
   "cell_type": "markdown",
   "metadata": {},
   "source": [
    "This piece of code goes right under the previous code that we just did."
   ]
  },
  {
   "cell_type": "markdown",
   "metadata": {},
   "source": [
    "# Homework\n",
    "\n",
    "1. Have the code in your game and have a smooth transition from walking to running.\n",
    "2. Have the attack animation damage or kill and enemy (Punch animation already given).\n",
    "3. Change the speed threshold for the charactar so it will change animations quicker or slower. \n",
    "\n",
    "If there are any problems, please check our Player.js file linked [here.](https://github.com/DeanPhillips24/oop_project_csse2/blob/main/assets/js/mario/Player.js)"
   ]
  }
 ],
 "metadata": {
  "kernelspec": {
   "display_name": "Python 3",
   "language": "python",
   "name": "python3"
  },
  "language_info": {
   "codemirror_mode": {
    "name": "ipython",
    "version": 3
   },
   "file_extension": ".py",
   "mimetype": "text/x-python",
   "name": "python",
   "nbconvert_exporter": "python",
   "pygments_lexer": "ipython3",
   "version": "3.11.5"
  },
  "orig_nbformat": 4
 },
 "nbformat": 4,
 "nbformat_minor": 2
}
