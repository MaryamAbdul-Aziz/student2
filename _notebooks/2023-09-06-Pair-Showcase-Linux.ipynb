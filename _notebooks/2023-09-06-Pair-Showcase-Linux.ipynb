{
 "cells": [
  {
   "cell_type": "markdown",
   "metadata": {},
   "source": [
    "---\n",
    "toc: true\n",
    "title: Pair Showcase Linux interaction\n",
    "layout: post\n",
    "description: Pair showcase commands and Linux interaction in VSCode\n",
    "type: tangibles\n",
    "courses: { compsci: {week: 3} }\n",
    "---"
   ]
  },
  {
   "cell_type": "markdown",
   "metadata": {},
   "source": [
    "## Linux interactions: Cloning, Pulling, and Pushing to a Repository"
   ]
  },
  {
   "cell_type": "markdown",
   "metadata": {},
   "source": [
    "### Clone a repository"
   ]
  },
  {
   "cell_type": "code",
   "execution_count": 3,
   "metadata": {
    "vscode": {
     "languageId": "shellscript"
    }
   },
   "outputs": [],
   "source": [
    "%%script bash\n",
    "\n",
    "\n",
    "cat <<EOF > /tmp/variables.sh\n",
    "export project_dir=$HOME/tester\n",
    "export project=\\$project_dir/tester\n",
    "export project_repo=\"https://github.com/MaryamAbdul-Aziz/tester.git\"\n",
    "EOF\n"
   ]
  },
  {
   "cell_type": "code",
   "execution_count": 4,
   "metadata": {
    "vscode": {
     "languageId": "shellscript"
    }
   },
   "outputs": [
    {
     "name": "stdout",
     "output_type": "stream",
     "text": [
      "Checking for existence of project directory and project\n",
      "Directory /Users/maryamabdul-aziz/tester does not exist\n",
      "Making directory /Users/maryamabdul-aziz/tester\n",
      "Directory /Users/maryamabdul-aziz/tester exists.\n",
      "\n",
      "Directory /Users/maryamabdul-aziz/tester/tester does not exist\n",
      "Cloning https://github.com/MaryamAbdul-Aziz/tester.git\n"
     ]
    },
    {
     "name": "stderr",
     "output_type": "stream",
     "text": [
      "Cloning into 'tester'...\n"
     ]
    },
    {
     "name": "stdout",
     "output_type": "stream",
     "text": [
      "Directory /Users/maryamabdul-aziz/tester exists.\n"
     ]
    }
   ],
   "source": [
    "%%script bash \n",
    "# ^ used to start every bash script\n",
    "\n",
    "# extract variables\n",
    "source /tmp/variables.sh\n",
    "\n",
    "cd ~ # begin in home directory\n",
    "\n",
    "echo \"Checking for existence of project directory and project\"\n",
    "\n",
    "\n",
    "if [ ! -d \"$project_dir\" ] # if the directory does not exist, then...\n",
    "then \n",
    "    echo \"Directory $project_dir does not exist\"\n",
    "    echo \"Making directory $project_dir\"\n",
    "    mkdir -p \"$project_dir\"\n",
    "fi\n",
    "\n",
    "echo \"Directory $project_dir exists.\" \n",
    "\n",
    "# git clone a project from repo if it does not exist\n",
    "\n",
    "echo \"\"\n",
    "\n",
    "if [ ! -d $project_repo ] # if project does not exist, then...\n",
    "then\n",
    "    echo \"Directory $project does not exist\"\n",
    "    echo \"Cloning $project_repo\"\n",
    "    cd \"$project_dir\"\n",
    "    git clone \"$project_repo\"\n",
    "    cd ~\n",
    "fi\n",
    "\n",
    "echo \"Directory $project_dir exists.\" \n"
   ]
  },
  {
   "cell_type": "markdown",
   "metadata": {},
   "source": [
    "### Viewing working directory and list of all files within project\n",
    "Using `ls` and `pwd`"
   ]
  },
  {
   "cell_type": "code",
   "execution_count": 3,
   "metadata": {
    "vscode": {
     "languageId": "shellscript"
    }
   },
   "outputs": [
    {
     "name": "stdout",
     "output_type": "stream",
     "text": [
      "Navigating to project and printing working directory\n",
      "\n",
      "Working directory:\n",
      "/Users/maryamabdul-aziz\n",
      "Listing all files within directory\n",
      "\n",
      "Files:\n",
      "\u001b[34mApplications\u001b[m\u001b[m\n",
      "\u001b[34mDesktop\u001b[m\u001b[m\n",
      "\u001b[35mDocuments\u001b[m\u001b[m\n",
      "\u001b[34mDownloads\u001b[m\u001b[m\n",
      "\u001b[35mDropbox\u001b[m\u001b[m\n",
      "\u001b[34mLibrary\u001b[m\u001b[m\n",
      "\u001b[34mMovies\u001b[m\u001b[m\n",
      "\u001b[34mMusic\u001b[m\u001b[m\n",
      "\u001b[34mPictures\u001b[m\u001b[m\n",
      "\u001b[34mPublic\u001b[m\u001b[m\n",
      "\u001b[34mgems\u001b[m\u001b[m\n",
      "\u001b[34msrc\u001b[m\u001b[m\n",
      "\u001b[34mtester\u001b[m\u001b[m\n",
      "\u001b[34mvscode\u001b[m\u001b[m\n"
     ]
    }
   ],
   "source": [
    "%%script bash\n",
    "# ^ used to start every bash script\n",
    "\n",
    "echo \"Navigating to project and printing working directory\"\n",
    "echo \"\"\n",
    "cd $project\n",
    "echo \"Working directory:\"\n",
    "pwd\n",
    "\n",
    "echo \"Listing all files within directory\"\n",
    "cd $project\n",
    "echo \"\"\n",
    "echo \"Files:\"\n",
    "ls"
   ]
  },
  {
   "cell_type": "code",
   "execution_count": 4,
   "metadata": {
    "vscode": {
     "languageId": "shellscript"
    }
   },
   "outputs": [
    {
     "name": "stdout",
     "output_type": "stream",
     "text": [
      "Navigating to project and printing working directory\n",
      "\n",
      "\n",
      "Working directory:\n",
      "/Users/maryamabdul-aziz\n",
      "Listing all files within directory\n",
      "\n",
      "Files:\n",
      "\u001b[34mApplications\u001b[m\u001b[m\n",
      "\u001b[34mDesktop\u001b[m\u001b[m\n",
      "\u001b[35mDocuments\u001b[m\u001b[m\n",
      "\u001b[34mDownloads\u001b[m\u001b[m\n",
      "\u001b[35mDropbox\u001b[m\u001b[m\n",
      "\u001b[34mLibrary\u001b[m\u001b[m\n",
      "\u001b[34mMovies\u001b[m\u001b[m\n",
      "\u001b[34mMusic\u001b[m\u001b[m\n",
      "\u001b[34mPictures\u001b[m\u001b[m\n",
      "\u001b[34mPublic\u001b[m\u001b[m\n",
      "\u001b[34mgems\u001b[m\u001b[m\n",
      "\u001b[34msrc\u001b[m\u001b[m\n",
      "\u001b[34mtester\u001b[m\u001b[m\n",
      "\u001b[34mvscode\u001b[m\u001b[m\n"
     ]
    }
   ],
   "source": [
    "%%script bash\n",
    "# ^ used to start every bash script\n",
    "\n",
    "echo \"Navigating to project and printing working directory\"\n",
    "echo \"\"\n",
    "cd $project\n",
    "echo\"\"\n",
    "echo \"Working directory:\"\n",
    "pwd\n",
    "\n",
    "echo \"Listing all files within directory\"\n",
    "echo \"\"\n",
    "cd $project\n",
    "echo \"Files:\"\n",
    "ls"
   ]
  }
 ],
 "metadata": {
  "kernelspec": {
   "display_name": "Python 3 (ipykernel)",
   "language": "python",
   "name": "python3"
  },
  "language_info": {
   "codemirror_mode": {
    "name": "ipython",
    "version": 3
   },
   "file_extension": ".py",
   "mimetype": "text/x-python",
   "name": "python",
   "nbconvert_exporter": "python",
   "pygments_lexer": "ipython3",
   "version": "3.11.5"
  }
 },
 "nbformat": 4,
 "nbformat_minor": 4
}
