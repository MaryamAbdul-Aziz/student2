{
 "cells": [
  {
   "cell_type": "markdown",
   "metadata": {},
   "source": [
    "---\n",
    "layout: post\n",
    "title: Mario Platforms Lesson\n",
    "description: A lesson designed to help you create your own platform for your game\n",
    "courses: { compsci: {week: 15 } }\n",
    "type: plans\n",
    "author: Gavin Copley, Zafeer Ahmed, Ryan Nguyen\n",
    "---"
   ]
  },
  {
   "cell_type": "markdown",
   "metadata": {},
   "source": [
    "<a href=\"https://ryann96.github.io/Team-Project/mariogame\">Mario Platforms</a>"
   ]
  },
  {
   "cell_type": "markdown",
   "metadata": {},
   "source": [
    "Link to teacher's repository: https://github.com/ryann96/Team-Project"
   ]
  },
  {
   "cell_type": "markdown",
   "metadata": {},
   "source": [
    "### Using OOP\n",
    "We use Object Orientated Programming to complete this task. OOP uses objects, classes, variables, and includes a plethora of other items to create, in this case, a developed and fully functional javascript game! Follow along as we go through the steps to make 3 of the following additions: A platform, a coin."
   ]
  },
  {
   "cell_type": "markdown",
   "metadata": {},
   "source": [
    "## What do we expect?\n",
    "We want the platform to be able to be walked on, we want to be able to jump off of it and jump onto it. We also want a coin to that can have collision with the player."
   ]
  },
  {
   "cell_type": "markdown",
   "metadata": {},
   "source": [
    "## Step 1: Making A Platform Class\n",
    "First, we need to make a new .js file to store our information. We named ours PlatformO.js, but you can name it whatever you want. However, if you do that, make sure you reference the correct file name when trying to import it (not recommended). \n",
    "- Include the following code to make sure that it runs with the rest of the game:"
   ]
  },
  {
   "cell_type": "code",
   "execution_count": null,
   "metadata": {
    "vscode": {
     "languageId": "javascript"
    }
   },
   "outputs": [],
   "source": [
    "import GameEnv from './GameEnv.js';\n",
    "import GameObject from './GameObject.js';\n",
    "\n",
    "export class PlatformO extends GameObject {\n",
    "    constructor(canvas, image) {\n",
    "        super(canvas, image, 0);\n",
    "    }\n",
    "\n",
    "    // Required, but no update action\n",
    "    update() {\n",
    "    }\n",
    "\n",
    "    // Draw position is always 0,0\n",
    "    draw() {\n",
    "        this.ctx.drawImage(this.image, 0, 0);\n",
    "    }\n",
    "\n",
    "    // Set platform position\n",
    "    size() {\n",
    "        // Formula for Height should be on constant ratio, using a proportion of 832\n",
    "        const scaledHeight = GameEnv.innerHeight * (60/832);\n",
    "        // Formula for Width is scaled: scaledWidth/scaledHeight == this.width/this.height\n",
    "        const scaledWidth = 150;\n",
    "        const platformX = .1 * GameEnv.innerWidth;\n",
    "        const platformY = (GameEnv.bottom - scaledHeight) - 150;\n",
    "\n",
    "        // set variables used in Display and Collision algorithms\n",
    "        this.bottom = platformY;\n",
    "        this.collisionHeight = scaledHeight;\n",
    "        this.collisionWidth = scaledWidth;\n",
    "    \n",
    "        //this.canvas.width = this.width; \n",
    "        //this.canvas.height = this.height;\n",
    "        this.canvas.style.width = `${scaledWidth}px`;\n",
    "        this.canvas.style.height = `${scaledHeight}px`;\n",
    "        this.canvas.style.position = 'absolute';\n",
    "        this.canvas.style.left = `${platformX}px`;\n",
    "        this.canvas.style.top = `${platformY}px`; \n",
    "\n",
    "    }\n",
    "}\n",
    "\n",
    "export default PlatformO;"
   ]
  },
  {
   "cell_type": "markdown",
   "metadata": {},
   "source": [
    "This code is very similar to the tube code. The PlatformO class is extending the GameObject class, and after being defined, we can now change values and key features that are needed from a platform. \n",
    "\n",
    "Constructor initializes the class and super inherits the traits from the class that it is extending. Draw draws it on the canvas and size adjusts values like position, height, and width.\n",
    "\n",
    "There are many files in which we need to make changes so the game is aware of the platform. Namely, the md file that the game is being displayed in, Player.js so we can have the player collide and stand on the platform, and also some code in GameLevel.\n",
    "- Most of the values are in this code is changeable; we can change the position, size, and so on for the platform. Be sure to experiment!"
   ]
  },
  {
   "cell_type": "markdown",
   "metadata": {},
   "source": [
    "Lets make the platform have an image. Lets navigate to the file named \"2023-11-27-CSSE-oop-game-levels.md\" or whatever you named your main file that holds the game. The following code is needed to provide an image for the platform (image is in slack)"
   ]
  },
  {
   "cell_type": "code",
   "execution_count": null,
   "metadata": {
    "vscode": {
     "languageId": "javascript"
    }
   },
   "outputs": [],
   "source": [
    "var assets = {\n",
    "    // other stuff up\n",
    "    platformO: {\n",
    "        grass: { src: \"/images/brick_wall.png\" },\n",
    "    },\n",
    "    // other stuff down\n",
    "};"
   ]
  },
  {
   "cell_type": "markdown",
   "metadata": {},
   "source": [
    "Scroll down to find and add to the next part..."
   ]
  },
  {
   "cell_type": "code",
   "execution_count": null,
   "metadata": {
    "vscode": {
     "languageId": "javascript"
    }
   },
   "outputs": [],
   "source": [
    "new GameLevel( {\n",
    "    tag: \"hills\", \n",
    "    background: assets.backgrounds.hills, \n",
    "    platform: assets.platforms.grass, \n",
    "    platformO: assets.platformO.grass, // This is what we need to add\n",
    "    player: assets.players.mario, \n",
    "    tube: assets.obstacles.tube, \n",
    "    callback: testerCallBack, \n",
    "    thing: assets.thing.coin, \n",
    "} );"
   ]
  },
  {
   "cell_type": "markdown",
   "metadata": {},
   "source": [
    "Now we need to edit the GameLevel.js file. This will make the platform constructed with the image when the level starts."
   ]
  },
  {
   "cell_type": "code",
   "execution_count": null,
   "metadata": {
    "vscode": {
     "languageId": "javascript"
    }
   },
   "outputs": [],
   "source": [
    "constructor(gameObject) {\n",
    "    // conditional assignments from GameObject to instance variables\n",
    "    this.tag = gameObject?.tag;\n",
    "    this.backgroundImg = gameObject.background?.file;\n",
    "    this.platformImg = gameObject.platform?.file;\n",
    "    this.platformOImg = gameObject.platformO?.file; // You want to add this one!\n",
    "    this.thingImg = gameObject.thing?.file; \n",
    "    this.playerImg = gameObject.player?.file;\n",
    "    this.playerData = gameObject?.player;\n",
    "    this.tubeImg = gameObject.tube?.file;\n",
    "    this.isComplete = gameObject?.callback; // function that determines if level is complete\n",
    "    GameEnv.levels.push(this);\n",
    "}"
   ]
  },
  {
   "cell_type": "markdown",
   "metadata": {},
   "source": [
    "Scroll down and add this too"
   ]
  },
  {
   "cell_type": "code",
   "execution_count": null,
   "metadata": {
    "vscode": {
     "languageId": "javascript"
    }
   },
   "outputs": [],
   "source": [
    "const imagesToLoad = [];\n",
    "// other stuff\n",
    "if (this.platformOImg) {\n",
    "    imagesToLoad.push(this.loadImage(this.platformOImg));\n",
    "}"
   ]
  },
  {
   "cell_type": "markdown",
   "metadata": {},
   "source": [
    "### Make sure you have this!\n",
    "This code is mandatory for the platform to be displayed!\n",
    "This code is all based off of Mr. Mortensen's previous code and uses his code as an example."
   ]
  },
  {
   "cell_type": "markdown",
   "metadata": {},
   "source": [
    "## Step 2: Adding Collision\n",
    "Next, we are going to be adding collision to the platform. To do this, we have to go into Player.js and add code for collision for the platform so the character can stand on it."
   ]
  },
  {
   "cell_type": "markdown",
   "metadata": {},
   "source": [
    "We need to add the following code next to the tube collision:"
   ]
  },
  {
   "cell_type": "code",
   "execution_count": null,
   "metadata": {
    "vscode": {
     "languageId": "javascript"
    }
   },
   "outputs": [],
   "source": [
    "if (this.collisionData.touchPoints.other.id === \"jumpPlatform\") {\n",
    "    // Collision with the left side of the Platform\n",
    "    console.log(\"id\")\n",
    "    if (this.collisionData.touchPoints.other.left && (this.topOfPlatform === true)) {\n",
    "        this.movement.right = false;\n",
    "        console.log(\"a\")\n",
    "    }\n",
    "    // Collision with the right side of the platform\n",
    "    if (this.collisionData.touchPoints.other.right && (this.topOfPlatform === true)) {\n",
    "        this.movement.left = false;\n",
    "        console.log(\"b\")\n",
    "    }\n",
    "    // Collision with the top of the player\n",
    "    if (this.collisionData.touchPoints.this.ontop) {\n",
    "        this.gravityEnabled = false;\n",
    "        console.log(\"c\")\n",
    "    }\n",
    "    if (this.collisionData.touchPoints.this.bottom) {\n",
    "        this.gravityEnabled = false;\n",
    "        console.log(\"d\")\n",
    "    }\n",
    "    if (this.collisionData.touchPoints.this.top) {\n",
    "        this.gravityEnabled = false;\n",
    "        this.topOfPlatform = true; \n",
    "        console.log(this.topOfPlatform + \"top\")\n",
    "        console.log(this.gravityEnabled + \"grav\")\n",
    "        //console.log(\"e\");\n",
    "    }\n",
    "}"
   ]
  },
  {
   "cell_type": "markdown",
   "metadata": {},
   "source": [
    "Make sure to have the following code to the else statement below the previous code"
   ]
  },
  {
   "cell_type": "code",
   "execution_count": null,
   "metadata": {
    "vscode": {
     "languageId": "javascript"
    }
   },
   "outputs": [],
   "source": [
    "this.topOfPlatform = false;\n",
    "this.movement.left = true;\n",
    "this.movement.right = true;\n",
    "this.movement.down = true;\n",
    "this.gravityEnabled = true;"
   ]
  },
  {
   "cell_type": "markdown",
   "metadata": {},
   "source": [
    "These 2 pieces of code both affect the collision of the player with the platform. We are using Mr Mortensen's collisionData.touchPoints and using it to detect collision with the platform."
   ]
  },
  {
   "cell_type": "markdown",
   "metadata": {},
   "source": [
    "This is the complete code for the platform. Be sure to ask me anything if you need extra help or if anything is unclear."
   ]
  },
  {
   "cell_type": "markdown",
   "metadata": {},
   "source": [
    "The next thing we added to our game was the coin, which we will attempt to allow you to reload the page once you touch it. \n",
    "\n",
    "- Make sure you have the coin.png downloaded*\n",
    "- The first thing we are going to do is locate the JS files in platformer, and create one (which we called Thing1 for simplicity, but you can call it Coin.js)\n",
    "\n"
   ]
  },
  {
   "cell_type": "markdown",
   "metadata": {},
   "source": [
    "## Adding the coin png\n",
    "\n",
    "*These first few steps will be a repeat, but necessary for the coin to show up in the game\n",
    "\n",
    "Locate the CSSE-oop game level md file"
   ]
  },
  {
   "cell_type": "code",
   "execution_count": null,
   "metadata": {
    "vscode": {
     "languageId": "javascript"
    }
   },
   "outputs": [],
   "source": [
    "// Define assets for the game\n",
    "    var assets = {\n",
    "\n",
    "      ...Previous code\n",
    "      \n",
    "      thing: {\n",
    "        coin: { src: \"/images/Coin.png\" } //Add this one!\n",
    "      },  \n",
    "      platformO: {\n",
    "        grass: { src: \"/images/brick_wall.png\" },\n",
    "      },"
   ]
  },
  {
   "cell_type": "markdown",
   "metadata": {},
   "source": [
    "We called our group \"thing\" but you can call it whatever you want. We defined the image as coin and then pasted the image source. "
   ]
  },
  {
   "cell_type": "code",
   "execution_count": null,
   "metadata": {
    "vscode": {
     "languageId": "javascript"
    }
   },
   "outputs": [],
   "source": [
    "// Game screens\n",
    "    new GameLevel( {tag: \"hills\", background: assets.backgrounds.hills, platform: assets.platforms.grass, \n",
    "    platformO: assets.platformO.grass, player: assets.players.mario, tube: assets.obstacles.tube, \n",
    "    callback: testerCallBack, thing: assets.thing.coin, } ); // <-- add the line thing: assets.thing.con"
   ]
  },
  {
   "cell_type": "markdown",
   "metadata": {},
   "source": [
    "Again, your code will differ from ours if you didn't name it \"Thing\""
   ]
  },
  {
   "cell_type": "markdown",
   "metadata": {},
   "source": [
    "Next thing we want you to do is "
   ]
  },
  {
   "cell_type": "markdown",
   "metadata": {},
   "source": [
    "- Just like the platfrom, make a new .js file in assets/js/platformer\n",
    "- Copy and paste the whole entire code."
   ]
  },
  {
   "cell_type": "code",
   "execution_count": null,
   "metadata": {
    "vscode": {
     "languageId": "javascript"
    }
   },
   "outputs": [],
   "source": [
    "import GameEnv from './GameEnv.js';\n",
    "import GameObject from './GameObject.js';\n",
    "\n",
    "export class Thing1 extends GameObject {\n",
    "    constructor(canvas, image) {\n",
    "        super(canvas, image, 0);\n",
    "        // Set the initial position and size\n",
    "        this.size();\n",
    "    }\n",
    "\n",
    "    // Required, but no update action\n",
    "    update() {\n",
    "    }\n",
    "\n",
    "    // Draw position is always 0,0\n",
    "    draw() {\n",
    "        // Save the current transformation matrix\n",
    "        this.ctx.save();\n",
    "\n",
    "        // Rotate the canvas 90 degrees to the left\n",
    "        this.ctx.rotate(-Math.PI / 2);\n",
    "\n",
    "        // Draw the image at the rotated position (swap x and y)\n",
    "        this.ctx.drawImage(this.image, -this.image.height, 0);\n",
    "\n",
    "        // Restore the original transformation matrix\n",
    "        this.ctx.restore();\n",
    "    }\n",
    "\n",
    "    // Center and set Thing1 position with adjustable height and width\n",
    "    size() {\n",
    "        // Make the image 10 times smaller\n",
    "        const scaledWidth = this.image.width * 0.2;\n",
    "        const scaledHeight = this.image.height * 0.169;\n",
    "\n",
    "        // Center the object on the screen\n",
    "        const randomPosition = Math.random() < 0.5; // Randomly choose between two positions\n",
    "\n",
    "        let thingX, thingY;\n",
    "\n",
    "        if (randomPosition) {\n",
    "            thingX = (GameEnv.innerWidth - scaledWidth) / 2.5;\n",
    "            thingY = (GameEnv.innerHeight - scaledHeight) / 1.01;\n",
    "        } else {\n",
    "            thingX = (GameEnv.innerWidth - scaledWidth) / 7.5;\n",
    "            thingY = (GameEnv.innerHeight - scaledHeight) / 2.02;\n",
    "        }\n",
    "\n",
    "        // Set variables used in Display and Collision algorithms\n",
    "        this.bottom = thingY + scaledHeight;\n",
    "        this.collisionHeight = scaledHeight;\n",
    "        this.collisionWidth = scaledWidth;\n",
    "\n",
    "        this.canvas.style.width = `${scaledWidth}px`;\n",
    "        this.canvas.style.height = `${scaledHeight}px`;\n",
    "        this.canvas.style.position = 'absolute';\n",
    "        this.canvas.style.left = `${thingX}px`;\n",
    "        this.canvas.style.top = `${thingY}px`;\n",
    "    }\n",
    "\n",
    "    // Method to shrink the coin\n",
    "    shrinkCoin() {\n",
    "        // Set variables used in Display and Collision algorithms\n",
    "        const scaledWidth = 0; // Set width to 0\n",
    "        const scaledHeight = 0; // Set height to 0\n",
    "\n",
    "        this.bottom = 0;\n",
    "        this.collisionHeight = 0;\n",
    "        this.collisionWidth = 0;\n",
    "\n",
    "        this.canvas.style.width = `${scaledWidth}px`;\n",
    "        this.canvas.style.height = `${scaledHeight}px`;\n",
    "    }\n",
    "}\n",
    "\n",
    "export default Thing1;\n"
   ]
  },
  {
   "cell_type": "code",
   "execution_count": null,
   "metadata": {
    "vscode": {
     "languageId": "javascript"
    }
   },
   "outputs": [],
   "source": [
    "var assets = {\n",
    "    // other stuff up\n",
    "    thing: {\n",
    "        coin: { src: \"/images/Coin.png\" }\n",
    "      },  \n",
    "    // other stuff down\n",
    "};"
   ]
  },
  {
   "cell_type": "code",
   "execution_count": null,
   "metadata": {
    "vscode": {
     "languageId": "javascript"
    }
   },
   "outputs": [],
   "source": [
    "new GameLevel( {\n",
    "    tag: \"hills\", \n",
    "    background: assets.backgrounds.hills, \n",
    "    platform: assets.platforms.grass, \n",
    "    platformO: assets.platformO.grass, \n",
    "    player: assets.players.mario, \n",
    "    tube: assets.obstacles.tube, \n",
    "    callback: testerCallBack, \n",
    "    thing: assets.thing.coin, // Insert coin\n",
    "} );"
   ]
  },
  {
   "cell_type": "code",
   "execution_count": null,
   "metadata": {
    "vscode": {
     "languageId": "javascript"
    }
   },
   "outputs": [],
   "source": [
    "constructor(gameObject) {\n",
    "    // conditional assignments from GameObject to instance variables\n",
    "    this.tag = gameObject?.tag;\n",
    "    this.backgroundImg = gameObject.background?.file;\n",
    "    this.platformImg = gameObject.platform?.file;\n",
    "    this.platformOImg = gameObject.platformO?.file; \n",
    "    this.thingImg = gameObject.thing?.file; // Insert coin\n",
    "    this.playerImg = gameObject.player?.file;\n",
    "    this.playerData = gameObject?.player;\n",
    "    this.tubeImg = gameObject.tube?.file;\n",
    "    this.isComplete = gameObject?.callback; // function that determines if level is complete\n",
    "    GameEnv.levels.push(this);\n",
    "}"
   ]
  },
  {
   "cell_type": "code",
   "execution_count": null,
   "metadata": {
    "vscode": {
     "languageId": "javascript"
    }
   },
   "outputs": [],
   "source": [
    "const imagesToLoad = [];\n",
    "// other stuff\n",
    "if (this.platformOImg) {\n",
    "    imagesToLoad.push(this.loadImage(this.platformOImg));\n",
    "}"
   ]
  },
  {
   "cell_type": "markdown",
   "metadata": {},
   "source": [
    "## Your Homework!\n",
    "For homework we want you to complete both of these or just one and something unique and creative\n",
    "- Make the coin disappear after touching it. The coin collision is given.\n",
    "- Make some more platforms to jump on"
   ]
  }
 ],
 "metadata": {
  "language_info": {
   "name": "python"
  },
  "orig_nbformat": 4
 },
 "nbformat": 4,
 "nbformat_minor": 2
}
